{
 "cells": [
  {
   "cell_type": "code",
   "execution_count": 1,
   "id": "e249cfa2-10f1-407b-be9f-38d136189437",
   "metadata": {},
   "outputs": [],
   "source": [
    "import cv2\n",
    "import numpy as np\n",
    "import os\n",
    "import glob"
   ]
  },
  {
   "cell_type": "code",
   "execution_count": 2,
   "id": "b955f712-8b54-4694-b569-295fcfeddfd5",
   "metadata": {},
   "outputs": [
    {
     "name": "stdout",
     "output_type": "stream",
     "text": [
      "Camera matrix : \n",
      "\n",
      "[[668.14668201   0.         594.85802629]\n",
      " [  0.         671.15179562 358.66770853]\n",
      " [  0.           0.           1.        ]]\n"
     ]
    }
   ],
   "source": [
    "###########\n",
    "# Calculate the camera matrics\n",
    "###########\n",
    "\n",
    "# Defining the dimensions of checkerboard\n",
    "CHECKERBOARD = (5, 8) #根据具体棋盘格数指定，6*9的格在这里是（5，8），可能是指黑白交叉点\n",
    "# 每行棋和每列的内角数（patternSize = cvSize (points_per_row, points_per_colum) = cvSize(columns,rows)）\n",
    "#CHECKERBOARD = (6, 9)\n",
    "criteria = (cv2.TERM_CRITERIA_EPS + cv2.TERM_CRITERIA_MAX_ITER, 30, 0.001) #终止条件\n",
    "\n",
    "# Creating vector to store vectors of 3D points for each checkerboard image\n",
    "objpoints = [] # 真实世界中的3d点\n",
    "# Creating vector to store vectors of 2D points for each checkerboard image\n",
    "imgpoints = [] # 图像中的2d点\n",
    "\n",
    "# Defining the world coordinates for 3D points\n",
    "objp = np.zeros((1, CHECKERBOARD[0]*CHECKERBOARD[1], 3), np.float32)\n",
    "objp[0,:,:2] = np.mgrid[0:CHECKERBOARD[0], 0:CHECKERBOARD[1]].T.reshape(-1, 2)\n",
    "prev_img_shape = None\n",
    "\n",
    "'''\n",
    "上一段也可写作：\n",
    "# 准备对象点， 如 (0,0,0), (1,0,0), (2,0,0) ....,(6,5,0)\n",
    "objp = np.zeros((5*8,3), np.float32)\n",
    "objp[:,:2] = np.mgrid[0:5,0:8].T.reshape(-1,2)\n",
    "'''\n",
    "\n",
    "# Extracting path of individual image stored in a given directory\n",
    "images = glob.glob('./calib-left/*.jpg')\n",
    "for fname in images:\n",
    "    img = cv2.imread(fname)\n",
    "    gray = cv2.cvtColor(img,cv2.COLOR_BGR2GRAY)\n",
    "    # Find the chess board corners 寻找棋盘中的点\n",
    "    # If desired number of corners are found in the image then ret = true\n",
    "    ret, corners = cv2.findChessboardCorners(gray, CHECKERBOARD, cv2.CALIB_CB_ADAPTIVE_THRESH+\n",
    "    \tcv2.CALIB_CB_FAST_CHECK+cv2.CALIB_CB_NORMALIZE_IMAGE)\n",
    "    \n",
    "    \"\"\"\n",
    "    If desired number of corner are detected,\n",
    "    we refine the pixel coordinates and display \n",
    "    them on the images of checker board\n",
    "    \"\"\"\n",
    "    if ret == True:\n",
    "        objpoints.append(objp)\n",
    "        # refining pixel coordinates for given 2d points.\n",
    "        corners2 = cv2.cornerSubPix(gray,corners,(11,11),(-1,-1),criteria)\n",
    "        \n",
    "        imgpoints.append(corners2)\n",
    "\n",
    "        # Draw and display the corners\n",
    "        img = cv2.drawChessboardCorners(img, CHECKERBOARD, corners2,ret)\n",
    "    \n",
    "    cv2.imshow('img',img)\n",
    "    cv2.waitKey(0)\n",
    "\n",
    "cv2.destroyAllWindows()\n",
    "\n",
    "h,w = img.shape[:2]\n",
    "\n",
    "\"\"\"\n",
    "Performing camera calibration by \n",
    "passing the value of known 3D points (objpoints)\n",
    "and corresponding pixel coordinates of the \n",
    "detected corners (imgpoints)\n",
    "\"\"\"\n",
    "retval, cameraMatrix, distCoeffs, rvecs, tvecs = cv2.calibrateCamera(objpoints, imgpoints, gray.shape[::-1], None,None)\n",
    "\n",
    "print(\"Camera matrix : \\n\")\n",
    "print(cameraMatrix)\n",
    "#print(\"dist Coefficient: \\n\")\n",
    "#print(distCoeffs)\n",
    "# 透镜失真系数\n",
    "#print(\"rvecs : \\n\")\n",
    "#print(rvecs)\n",
    "# rvecs：3×1 Rotationl旋转向量。矢量的方向指定了旋转轴，矢量的大小指定了旋转角度。\n",
    "#print(\"tvecs : \\n\")\n",
    "#print(tvecs)\n",
    "# tvecs：3×1 translation平移向量。\n",
    "\n"
   ]
  },
  {
   "cell_type": "code",
   "execution_count": 6,
   "id": "f975e705-c6e9-4a90-82e3-07518aaa133a",
   "metadata": {},
   "outputs": [
    {
     "data": {
      "text/plain": [
       "\"with open(filename, 'a') as f:\\n    f.write('rvecs : ' + str(rvecs) + '\\n')\\n    f.write('tvecs : ' + str(tvecs) + '\\n')\\nf.close()\""
      ]
     },
     "execution_count": 6,
     "metadata": {},
     "output_type": "execute_result"
    }
   ],
   "source": [
    "\n",
    "###########\n",
    "# Save Camera Matrics to file\n",
    "###########\n",
    "\n",
    "def matrix2txt(filename, matrix_name, matrix):\n",
    "    with open(filename, 'a') as f:\n",
    "        f.write(matrix_name + ' : ')\n",
    "        for row in matrix:\n",
    "            for element in row:\n",
    "                f.write(str(element) + ' ')\n",
    "        f.write('\\n')\n",
    "    f.close()\n",
    "\n",
    "filename = 'calib/cali.txt'\n",
    "\n",
    "matrix2txt(filename, 'P2', cameraMatrix)\n",
    "#matrix2txt(filename, 'P3', distCoeffs)\n",
    "\n",
    "'''with open(filename, 'a') as f:\n",
    "    f.write('rvecs : ' + str(rvecs) + '\\n')\n",
    "    f.write('tvecs : ' + str(tvecs) + '\\n')\n",
    "f.close()'''"
   ]
  },
  {
   "cell_type": "code",
   "execution_count": null,
   "id": "227d5283-fbf6-4d1e-a824-cb3061289818",
   "metadata": {},
   "outputs": [],
   "source": [
    "\n",
    "###########\n",
    "# Using the derived camera parameters to undistort the image\n",
    "###########\n",
    "\n",
    "def undstImg(i):\n",
    "    img = cv2.imread(images[i])\n",
    "    # Refining the camera matrix using parameters obtained by calibration\n",
    "    newcameramtx, roi = cv2.getOptimalNewCameraMatrix(cameraMatrix, distCoeffs, (w,h), 1, (w,h))\n",
    "\n",
    "    # Method 1 to undistort the image: 使用上面获得的ROI裁剪结果\n",
    "    dst = cv2.undistort(img, cameraMatrix, distCoeffs, None, newcameramtx)\n",
    "\n",
    "    # Method 2 to undistort the image: 找到从扭曲图像到未扭曲图像的映射函数。然后使用重映射功能。\n",
    "    #mapx,mapy=cv2.initUndistortRectifyMap(cameraMatrix, distCoeffs, None,newcameramtx,(w,h),5)\n",
    "    #dst = cv2.remap(img,mapx,mapy,cv2.INTER_LINEAR)\n",
    "    \n",
    "    # Displaying the undistorted image\n",
    "    cv2.imshow(\"undistorted image\",dst)\n",
    "    cv2.waitKey(0)\n",
    "\n",
    "'''for i in range(15): \n",
    "    undstImg(i)'''"
   ]
  }
 ],
 "metadata": {
  "kernelspec": {
   "display_name": "Python 3 (ipykernel)",
   "language": "python",
   "name": "python3"
  },
  "language_info": {
   "codemirror_mode": {
    "name": "ipython",
    "version": 3
   },
   "file_extension": ".py",
   "mimetype": "text/x-python",
   "name": "python",
   "nbconvert_exporter": "python",
   "pygments_lexer": "ipython3",
   "version": "3.11.6"
  }
 },
 "nbformat": 4,
 "nbformat_minor": 5
}
